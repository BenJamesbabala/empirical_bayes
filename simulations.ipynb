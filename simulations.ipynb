{
 "cells": [
  {
   "cell_type": "code",
   "execution_count": 18,
   "metadata": {
    "collapsed": true,
    "deletable": true,
    "editable": true
   },
   "outputs": [],
   "source": [
    "import numpy as np\n",
    "import pandas as pd\n",
    "from numpy import random\n",
    "import matplotlib.pyplot as plt\n",
    "import scipy\n",
    "import seaborn as sns\n",
    "from functools import reduce\n",
    "sns.set_style('white')\n",
    "%matplotlib inline"
   ]
  },
  {
   "cell_type": "code",
   "execution_count": 19,
   "metadata": {
    "collapsed": true,
    "deletable": true,
    "editable": true
   },
   "outputs": [],
   "source": [
    "def mse(x, y):\n",
    "    return ((x-y)**2).sum()"
   ]
  },
  {
   "cell_type": "code",
   "execution_count": 20,
   "metadata": {
    "collapsed": true,
    "deletable": true,
    "editable": true
   },
   "outputs": [],
   "source": [
    "def variance_scaling(sample_sems, sample_means, X_bar, btw_group_std, group_mus):\n",
    "    global_scales = sample_sems**2 / (sample_sems**2 + btw_group_std**2)\n",
    "    shrunk_means = X_bar * global_scales + sample_means * (1 - global_scales) \n",
    "    return mse(group_mus, shrunk_means)"
   ]
  },
  {
   "cell_type": "code",
   "execution_count": 21,
   "metadata": {
    "collapsed": true,
    "deletable": true,
    "editable": true
   },
   "outputs": [],
   "source": [
    "def variance_scaling_pooled(sample_sems_pooled, sample_means, X_bar, btw_group_std, group_mus):\n",
    "    global_scales = sample_sems_pooled**2 / (sample_sems_pooled**2 + btw_group_std**2)\n",
    "    shrunk_means = X_bar * global_scales + sample_means * (1 - global_scales) \n",
    "    return mse(group_mus, shrunk_means)"
   ]
  },
  {
   "cell_type": "code",
   "execution_count": 22,
   "metadata": {
    "collapsed": true,
    "deletable": true,
    "editable": true
   },
   "outputs": [],
   "source": [
    "def scale_by_sample_size(sample_means, group_sizes, X_bar, num_obs, group_mus):\n",
    "    global_scales = num_obs / (group_sizes + num_obs)\n",
    "    shrunk_means = X_bar * global_scales + sample_means * (1 - global_scales) \n",
    "    return mse(group_mus, shrunk_means)"
   ]
  },
  {
   "cell_type": "code",
   "execution_count": 23,
   "metadata": {
    "collapsed": false,
    "deletable": true,
    "editable": true
   },
   "outputs": [],
   "source": [
    "def run_iter(sigma=4, tau=3, gamma_scale=40, N=100, gamma_shape=2):\n",
    "    \"\"\"\n",
    "    sigma: true within-group SD\n",
    "    tau: true between-group SD\n",
    "    N: num_groups\n",
    "    \"\"\"\n",
    "    # Parameters\n",
    "    mu = 0 # true global mean\n",
    "    \n",
    "    group_sizes = np.ceil(random.gamma(gamma_shape, scale=gamma_scale, size=N)).astype(int) \n",
    "\n",
    "    num_obs = group_sizes.sum()\n",
    "    group_mus = tau * random.randn(N) + mu\n",
    "\n",
    "    # Data\n",
    "    data = np.array([sigma * random.randn(n) + group_mu for n, group_mu in zip(group_sizes, group_mus)])\n",
    "    centered_data = np.array([group - group.mean() for group in data])\n",
    "    flat_data = reduce(lambda x, y: np.concatenate((x, y)), data)\n",
    "    flat_centered_data = reduce(lambda x, y: np.concatenate((x, y)), centered_data)\n",
    "\n",
    "    # Overall stats\n",
    "    data_sum = flat_data.sum()\n",
    "    X_bar = data_sum / num_obs\n",
    "    X_var = flat_data.var()\n",
    "    X_sem = np.sqrt(X_var / num_obs)\n",
    "\n",
    "    # Within-group stats\n",
    "    sample_means = np.array([np.mean(group) for group in data])\n",
    "    sample_stds = np.array([np.std(group) for group in data])\n",
    "    sample_sems = np.sqrt(sample_stds**2 / group_sizes)\n",
    "    sample_stds_pooled = flat_centered_data.std()\n",
    "    sample_sems_pooled = np.sqrt(sample_stds_pooled**2 / group_sizes)\n",
    "\n",
    "    # Between-group stats\n",
    "    btw_group_std = sample_means.std()\n",
    "\n",
    "    S_bar = np.array([group.sum() for group in data]).sum()/num_obs\n",
    "    \n",
    "    # Functions\n",
    "    mse_mle = mse(group_mus, sample_means)\n",
    "    mse_variance_scaling = variance_scaling(sample_sems, sample_means, X_bar, btw_group_std, group_mus)\n",
    "    mse_variance_scaling_pooled = variance_scaling_pooled(sample_sems_pooled, sample_means, X_bar, btw_group_std, group_mus)\n",
    "\n",
    "    return np.array([mse_mle, mse_variance_scaling, mse_variance_scaling_pooled])"
   ]
  },
  {
   "cell_type": "code",
   "execution_count": 24,
   "metadata": {
    "collapsed": true,
    "deletable": true,
    "editable": true
   },
   "outputs": [],
   "source": [
    "def get_average_mses(sigma, tau, n_iter):\n",
    "    MSEs = np.empty([n_iter, 3])\n",
    "    for i in range(n_iter):\n",
    "        MSEs[i,:] = run_iter(sigma=sigma, tau=tau)\n",
    "    return MSEs.mean(axis=0)"
   ]
  },
  {
   "cell_type": "code",
   "execution_count": 31,
   "metadata": {
    "collapsed": false,
    "deletable": true,
    "editable": true
   },
   "outputs": [],
   "source": [
    "n_iter = 200\n",
    "sigmas = np.arange(1, 7, .5)\n",
    "MSEs = np.empty([len(sigmas), 3])\n",
    "for i, sigma in enumerate(sigmas):\n",
    "    MSEs[i,:] = get_average_mses(sigma, tau=3, n_iter=n_iter)"
   ]
  },
  {
   "cell_type": "code",
   "execution_count": 32,
   "metadata": {
    "collapsed": false,
    "deletable": true,
    "editable": true
   },
   "outputs": [
    {
     "data": {
      "image/png": "[encoded data removed]",
      "text/plain": [
       "<matplotlib.figure.Figure at 0x1133c8a90>"
      ]
     },
     "metadata": {},
     "output_type": "display_data"
    }
   ],
   "source": [
    "plt.figure()\n",
    "for i, model in enumerate(['MLE', 'Variance Scaling', 'Variance Scaling Pooled']):\n",
    "    \n",
    "\n",
    "    plt.plot(sigmas, MSEs[:,i], label=model, linewidth=1)\n",
    "plt.legend(loc='best')\n",
    "plt.ylabel('MSE')\n",
    "plt.xlabel('Sigma: True within-group SD')\n",
    "sns.despine()"
   ]
  },
  {
   "cell_type": "code",
   "execution_count": null,
   "metadata": {
    "collapsed": true
   },
   "outputs": [],
   "source": []
  }
 ],
 "metadata": {
  "anaconda-cloud": {},
  "kernelspec": {
   "display_name": "Python 3",
   "language": "python",
   "name": "python3"
  },
  "language_info": {
   "codemirror_mode": {
    "name": "ipython",
    "version": 3
   },
   "file_extension": ".py",
   "mimetype": "text/x-python",
   "name": "python",
   "nbconvert_exporter": "python",
   "pygments_lexer": "ipython3",
   "version": "3.6.0"
  }
 },
 "nbformat": 4,
 "nbformat_minor": 2
}
